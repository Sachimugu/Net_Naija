{
 "cells": [
  {
   "cell_type": "code",
   "execution_count": 1,
   "id": "634ea610",
   "metadata": {},
   "outputs": [],
   "source": [
    "#imports the required packages\n",
    "import pandas as pd \n",
    "from matplotlib import pyplot as plt\n",
    "import seaborn as sns\n",
    "import numpy as np\n",
    "import warnings\n",
    "warnings.filterwarnings('ignore')"
   ]
  },
  {
   "cell_type": "code",
   "execution_count": 2,
   "id": "1ebdd48b",
   "metadata": {},
   "outputs": [],
   "source": [
    "df=pd.read_csv('netnaija_movie.csv')"
   ]
  },
  {
   "cell_type": "code",
   "execution_count": 3,
   "id": "1570ffad",
   "metadata": {},
   "outputs": [
    {
     "data": {
      "text/html": [
       "<div>\n",
       "<style scoped>\n",
       "    .dataframe tbody tr th:only-of-type {\n",
       "        vertical-align: middle;\n",
       "    }\n",
       "\n",
       "    .dataframe tbody tr th {\n",
       "        vertical-align: top;\n",
       "    }\n",
       "\n",
       "    .dataframe thead th {\n",
       "        text-align: right;\n",
       "    }\n",
       "</style>\n",
       "<table border=\"1\" class=\"dataframe\">\n",
       "  <thead>\n",
       "    <tr style=\"text-align: right;\">\n",
       "      <th></th>\n",
       "      <th>Unnamed: 0</th>\n",
       "      <th>titles</th>\n",
       "      <th>movie_types</th>\n",
       "      <th>time_of_uplos</th>\n",
       "      <th>movie_lengths</th>\n",
       "      <th>num_of_comments</th>\n",
       "      <th>Genres</th>\n",
       "      <th>Release_Dates</th>\n",
       "      <th>Starss</th>\n",
       "      <th>Languages</th>\n",
       "      <th>Subtitles</th>\n",
       "      <th>movie_linkss</th>\n",
       "      <th>imdb_links</th>\n",
       "      <th>mo_summarys</th>\n",
       "    </tr>\n",
       "  </thead>\n",
       "  <tbody>\n",
       "    <tr>\n",
       "      <th>0</th>\n",
       "      <td>0</td>\n",
       "      <td>Clean (2022)</td>\n",
       "      <td>['Movies']</td>\n",
       "      <td>Jan 28</td>\n",
       "      <td>['01:33:27']</td>\n",
       "      <td>['56']</td>\n",
       "      <td>[' Crime, Drama, Thriller']</td>\n",
       "      <td>Release Date: Jan 28, 2022 (United States)</td>\n",
       "      <td>[' Adrien Brody, Glenn Fleshler, Richie Merritt']</td>\n",
       "      <td>[' English']</td>\n",
       "      <td>[' English']</td>\n",
       "      <td>https://www.thenetnaija.co/videos/movies</td>\n",
       "      <td>https://www.secure.zabira.ng/register?utm_sour...</td>\n",
       "      <td>&lt;em&gt;Revenge is a dirty business.&lt;/em&gt;</td>\n",
       "    </tr>\n",
       "    <tr>\n",
       "      <th>1</th>\n",
       "      <td>1</td>\n",
       "      <td>The Ice Age Adventures of Buck Wild (2022)</td>\n",
       "      <td>['Movies']</td>\n",
       "      <td>Jan 28</td>\n",
       "      <td>['01:21:05']</td>\n",
       "      <td>['81']</td>\n",
       "      <td>[' Adventure, Animation, Comedy, Family']</td>\n",
       "      <td>Release Date: Jan 28, 2022 (United States)</td>\n",
       "      <td>[' Simon Pegg, Vincent Tong, Aaron Harris']</td>\n",
       "      <td>[' English']</td>\n",
       "      <td>[' English']</td>\n",
       "      <td>https://www.thenetnaija.co/videos/movies</td>\n",
       "      <td>https://www.secure.zabira.ng/register?utm_sour...</td>\n",
       "      <td>&lt;em&gt;Disney+ gets wild.&lt;/em&gt;</td>\n",
       "    </tr>\n",
       "  </tbody>\n",
       "</table>\n",
       "</div>"
      ],
      "text/plain": [
       "   Unnamed: 0                                      titles movie_types  \\\n",
       "0           0                                Clean (2022)  ['Movies']   \n",
       "1           1  The Ice Age Adventures of Buck Wild (2022)  ['Movies']   \n",
       "\n",
       "  time_of_uplos movie_lengths num_of_comments  \\\n",
       "0        Jan 28  ['01:33:27']          ['56']   \n",
       "1        Jan 28  ['01:21:05']          ['81']   \n",
       "\n",
       "                                      Genres  \\\n",
       "0                [' Crime, Drama, Thriller']   \n",
       "1  [' Adventure, Animation, Comedy, Family']   \n",
       "\n",
       "                                Release_Dates  \\\n",
       "0  Release Date: Jan 28, 2022 (United States)   \n",
       "1  Release Date: Jan 28, 2022 (United States)   \n",
       "\n",
       "                                              Starss     Languages  \\\n",
       "0  [' Adrien Brody, Glenn Fleshler, Richie Merritt']  [' English']   \n",
       "1        [' Simon Pegg, Vincent Tong, Aaron Harris']  [' English']   \n",
       "\n",
       "      Subtitles                              movie_linkss  \\\n",
       "0  [' English']  https://www.thenetnaija.co/videos/movies   \n",
       "1  [' English']  https://www.thenetnaija.co/videos/movies   \n",
       "\n",
       "                                          imdb_links  \\\n",
       "0  https://www.secure.zabira.ng/register?utm_sour...   \n",
       "1  https://www.secure.zabira.ng/register?utm_sour...   \n",
       "\n",
       "                             mo_summarys  \n",
       "0  <em>Revenge is a dirty business.</em>  \n",
       "1            <em>Disney+ gets wild.</em>  "
      ]
     },
     "execution_count": 3,
     "metadata": {},
     "output_type": "execute_result"
    }
   ],
   "source": [
    "df.head(2)"
   ]
  },
  {
   "cell_type": "code",
   "execution_count": 4,
   "id": "6d78b4e6",
   "metadata": {},
   "outputs": [
    {
     "name": "stdout",
     "output_type": "stream",
     "text": [
      "number of rows are: 3073\n",
      "number of columns are: 14\n"
     ]
    }
   ],
   "source": [
    "print('number of rows are:', df.shape[0]) \n",
    "print('number of columns are:', df.shape[1])"
   ]
  },
  {
   "cell_type": "code",
   "execution_count": 5,
   "id": "83c61651",
   "metadata": {},
   "outputs": [
    {
     "name": "stdout",
     "output_type": "stream",
     "text": [
      "<class 'pandas.core.frame.DataFrame'>\n",
      "RangeIndex: 3073 entries, 0 to 3072\n",
      "Data columns (total 14 columns):\n",
      " #   Column           Non-Null Count  Dtype \n",
      "---  ------           --------------  ----- \n",
      " 0   Unnamed: 0       3073 non-null   int64 \n",
      " 1   titles           3073 non-null   object\n",
      " 2   movie_types      3073 non-null   object\n",
      " 3   time_of_uplos    3073 non-null   object\n",
      " 4   movie_lengths    3073 non-null   object\n",
      " 5   num_of_comments  3073 non-null   object\n",
      " 6   Genres           3073 non-null   object\n",
      " 7   Release_Dates    3073 non-null   object\n",
      " 8   Starss           3073 non-null   object\n",
      " 9   Languages        3073 non-null   object\n",
      " 10  Subtitles        3073 non-null   object\n",
      " 11  movie_linkss     3073 non-null   object\n",
      " 12  imdb_links       3073 non-null   object\n",
      " 13  mo_summarys      3073 non-null   object\n",
      "dtypes: int64(1), object(13)\n",
      "memory usage: 336.2+ KB\n"
     ]
    }
   ],
   "source": [
    "df.info() "
   ]
  },
  {
   "cell_type": "code",
   "execution_count": 6,
   "id": "5993026f",
   "metadata": {},
   "outputs": [
    {
     "data": {
      "text/plain": [
       "Index(['Unnamed: 0', 'titles', 'movie_types', 'time_of_uplos', 'movie_lengths',\n",
       "       'num_of_comments', 'Genres', 'Release_Dates', 'Starss', 'Languages',\n",
       "       'Subtitles', 'movie_linkss', 'imdb_links', 'mo_summarys'],\n",
       "      dtype='object')"
      ]
     },
     "execution_count": 6,
     "metadata": {},
     "output_type": "execute_result"
    }
   ],
   "source": [
    "df.columns"
   ]
  },
  {
   "cell_type": "code",
   "execution_count": 7,
   "id": "e98d2864",
   "metadata": {},
   "outputs": [],
   "source": [
    "df=df.rename(columns={\n",
    "    'time_of_uplos':'Upload_date',\n",
    "    'movie_lengths':'Movie_length',\n",
    "    'titles':'Title',\n",
    "    'movie_types':'Movie_type',\n",
    "    'Genres':'Genres',\n",
    "    'Release_Dates':'Release_date',\n",
    "    'Starss':'Stars',\n",
    "    'num_of_comments':'Num_of_comments',\n",
    "    'Languages':'Language',\n",
    "    'Subtitles':'Subtitle',\n",
    "    'movie_linkss':'Movie_link',\n",
    "    'imdb_links':'Imdb_link', \n",
    "    'mo_summarys':'Movie_summary'\n",
    "    })"
   ]
  },
  {
   "cell_type": "code",
   "execution_count": 8,
   "id": "af087229",
   "metadata": {},
   "outputs": [],
   "source": [
    "def rmbracket(columns): # defining a function\n",
    "    columns=columns.str.replace('[',' ')\n",
    "    columns=columns.str.replace(']',' ')\n",
    "    columns=columns.str.replace('\\'',' ')\n",
    "    return columns"
   ]
  },
  {
   "cell_type": "code",
   "execution_count": 9,
   "id": "f463aa64",
   "metadata": {},
   "outputs": [],
   "source": [
    "# Removes brackets and apostrophies in below columns\n",
    "\n",
    "df['Title']=rmbracket(df['Title'])\n",
    "df['Movie_type']=rmbracket(df['Movie_type'])\n",
    "df['Movie_length']=rmbracket(df['Movie_length'])\n",
    "df['Num_of_comments']=rmbracket(df['Num_of_comments'])\n",
    "df['Genres']=rmbracket(df['Genres'])\n",
    "df['Stars']=rmbracket(df['Stars'])\n",
    "df['Language']=rmbracket(df['Language'])\n",
    "df['Subtitle']=rmbracket(df['Subtitle'])"
   ]
  },
  {
   "cell_type": "code",
   "execution_count": 10,
   "id": "ce61f2a5",
   "metadata": {
    "scrolled": false
   },
   "outputs": [
    {
     "name": "stdout",
     "output_type": "stream",
     "text": [
      "<class 'pandas.core.frame.DataFrame'>\n",
      "RangeIndex: 3073 entries, 0 to 3072\n",
      "Data columns (total 14 columns):\n",
      " #   Column           Non-Null Count  Dtype \n",
      "---  ------           --------------  ----- \n",
      " 0   Unnamed: 0       3073 non-null   int64 \n",
      " 1   Title            3073 non-null   object\n",
      " 2   Movie_type       3073 non-null   object\n",
      " 3   Upload_date      3073 non-null   object\n",
      " 4   Movie_length     3073 non-null   object\n",
      " 5   Num_of_comments  3073 non-null   object\n",
      " 6   Genres           3073 non-null   object\n",
      " 7   Release_date     3073 non-null   object\n",
      " 8   Stars            3073 non-null   object\n",
      " 9   Language         3073 non-null   object\n",
      " 10  Subtitle         3073 non-null   object\n",
      " 11  Movie_link       3073 non-null   object\n",
      " 12  Imdb_link        3073 non-null   object\n",
      " 13  Movie_summary    3073 non-null   object\n",
      "dtypes: int64(1), object(13)\n",
      "memory usage: 336.2+ KB\n"
     ]
    }
   ],
   "source": [
    "df.info()"
   ]
  },
  {
   "cell_type": "code",
   "execution_count": 11,
   "id": "c6ae6824",
   "metadata": {},
   "outputs": [
    {
     "name": "stdout",
     "output_type": "stream",
     "text": [
      "<class 'pandas.core.frame.DataFrame'>\n",
      "RangeIndex: 3073 entries, 0 to 3072\n",
      "Data columns (total 14 columns):\n",
      " #   Column           Non-Null Count  Dtype \n",
      "---  ------           --------------  ----- \n",
      " 0   Unnamed: 0       3073 non-null   int64 \n",
      " 1   Title            3073 non-null   object\n",
      " 2   Movie_type       3073 non-null   object\n",
      " 3   Upload_date      3073 non-null   object\n",
      " 4   Movie_length     3073 non-null   object\n",
      " 5   Num_of_comments  3073 non-null   object\n",
      " 6   Genres           3073 non-null   object\n",
      " 7   Release_date     3073 non-null   object\n",
      " 8   Stars            3073 non-null   object\n",
      " 9   Language         3073 non-null   object\n",
      " 10  Subtitle         3073 non-null   object\n",
      " 11  Movie_link       3073 non-null   object\n",
      " 12  Imdb_link        3073 non-null   object\n",
      " 13  Movie_summary    3073 non-null   object\n",
      "dtypes: int64(1), object(13)\n",
      "memory usage: 336.2+ KB\n"
     ]
    }
   ],
   "source": [
    "df.info()"
   ]
  },
  {
   "cell_type": "code",
   "execution_count": 12,
   "id": "cb644549",
   "metadata": {},
   "outputs": [],
   "source": [
    "x=df['Title'].str.findall('(\\d{4})')#new columns for year\n",
    "\n",
    "Year = []\n",
    "for i in x:\n",
    "    try:\n",
    "        Year.append(i[-1])\n",
    "    except:\n",
    "        Year.append(np.nan)\n",
    "        \n",
    "df['Year']=Year    "
   ]
  },
  {
   "cell_type": "code",
   "execution_count": 13,
   "id": "23528881",
   "metadata": {
    "scrolled": true
   },
   "outputs": [],
   "source": [
    "y=df['Upload_date'].str.split(',')\n",
    "\n",
    "month_day = []\n",
    "for i in y:\n",
    "    try:\n",
    "        month_day.append(f'{i[0]} ')\n",
    "    except:\n",
    "        month_day.append(np.nan)\n",
    "        \n",
    "df['Month_day']=month_day"
   ]
  },
  {
   "cell_type": "code",
   "execution_count": 14,
   "id": "8f249213",
   "metadata": {},
   "outputs": [],
   "source": [
    "df['Upload_date'] = df['Month_day'] + df['Year'] "
   ]
  },
  {
   "cell_type": "code",
   "execution_count": 15,
   "id": "0b9985fe",
   "metadata": {},
   "outputs": [],
   "source": [
    "df['Upload_date']=pd.to_datetime(df['Upload_date'])"
   ]
  },
  {
   "cell_type": "code",
   "execution_count": 16,
   "id": "2e2c5089",
   "metadata": {},
   "outputs": [
    {
     "data": {
      "text/html": [
       "<div>\n",
       "<style scoped>\n",
       "    .dataframe tbody tr th:only-of-type {\n",
       "        vertical-align: middle;\n",
       "    }\n",
       "\n",
       "    .dataframe tbody tr th {\n",
       "        vertical-align: top;\n",
       "    }\n",
       "\n",
       "    .dataframe thead th {\n",
       "        text-align: right;\n",
       "    }\n",
       "</style>\n",
       "<table border=\"1\" class=\"dataframe\">\n",
       "  <thead>\n",
       "    <tr style=\"text-align: right;\">\n",
       "      <th></th>\n",
       "      <th>Unnamed: 0</th>\n",
       "      <th>Title</th>\n",
       "      <th>Movie_type</th>\n",
       "      <th>Upload_date</th>\n",
       "      <th>Movie_length</th>\n",
       "      <th>Num_of_comments</th>\n",
       "      <th>Genres</th>\n",
       "      <th>Release_date</th>\n",
       "      <th>Stars</th>\n",
       "      <th>Language</th>\n",
       "      <th>Subtitle</th>\n",
       "      <th>Movie_link</th>\n",
       "      <th>Imdb_link</th>\n",
       "      <th>Movie_summary</th>\n",
       "      <th>Year</th>\n",
       "      <th>Month_day</th>\n",
       "    </tr>\n",
       "  </thead>\n",
       "  <tbody>\n",
       "    <tr>\n",
       "      <th>0</th>\n",
       "      <td>0</td>\n",
       "      <td>Clean (2022)</td>\n",
       "      <td>Movies</td>\n",
       "      <td>2022-01-28</td>\n",
       "      <td>01:33:27</td>\n",
       "      <td>56</td>\n",
       "      <td>Crime, Drama, Thriller</td>\n",
       "      <td>Release Date: Jan 28, 2022 (United States)</td>\n",
       "      <td>Adrien Brody, Glenn Fleshler, Richie Merritt</td>\n",
       "      <td>English</td>\n",
       "      <td>English</td>\n",
       "      <td>https://www.thenetnaija.co/videos/movies</td>\n",
       "      <td>https://www.secure.zabira.ng/register?utm_sour...</td>\n",
       "      <td>&lt;em&gt;Revenge is a dirty business.&lt;/em&gt;</td>\n",
       "      <td>2022</td>\n",
       "      <td>Jan 28</td>\n",
       "    </tr>\n",
       "    <tr>\n",
       "      <th>1</th>\n",
       "      <td>1</td>\n",
       "      <td>The Ice Age Adventures of Buck Wild (2022)</td>\n",
       "      <td>Movies</td>\n",
       "      <td>2022-01-28</td>\n",
       "      <td>01:21:05</td>\n",
       "      <td>81</td>\n",
       "      <td>Adventure, Animation, Comedy, Family</td>\n",
       "      <td>Release Date: Jan 28, 2022 (United States)</td>\n",
       "      <td>Simon Pegg, Vincent Tong, Aaron Harris</td>\n",
       "      <td>English</td>\n",
       "      <td>English</td>\n",
       "      <td>https://www.thenetnaija.co/videos/movies</td>\n",
       "      <td>https://www.secure.zabira.ng/register?utm_sour...</td>\n",
       "      <td>&lt;em&gt;Disney+ gets wild.&lt;/em&gt;</td>\n",
       "      <td>2022</td>\n",
       "      <td>Jan 28</td>\n",
       "    </tr>\n",
       "    <tr>\n",
       "      <th>2</th>\n",
       "      <td>2</td>\n",
       "      <td>In the Forest (2022)</td>\n",
       "      <td>Movies</td>\n",
       "      <td>2022-01-28</td>\n",
       "      <td>01:23:11</td>\n",
       "      <td>39</td>\n",
       "      <td>Horror, Thriller</td>\n",
       "      <td>Release Date: Jan 28, 2022 (United States)</td>\n",
       "      <td>Debbon Ayer, Cristina Spruell, Lyman Ward</td>\n",
       "      <td>English</td>\n",
       "      <td>English</td>\n",
       "      <td>https://www.thenetnaija.co/videos/movies</td>\n",
       "      <td>https://www.secure.zabira.ng/register?utm_sour...</td>\n",
       "      <td>Helen and her daughter Emily reluctantly accom...</td>\n",
       "      <td>2022</td>\n",
       "      <td>Jan 28</td>\n",
       "    </tr>\n",
       "    <tr>\n",
       "      <th>3</th>\n",
       "      <td>3</td>\n",
       "      <td>Twice Bitten (2021)</td>\n",
       "      <td>Movies</td>\n",
       "      <td>2021-01-28</td>\n",
       "      <td>01:28:07</td>\n",
       "      <td>18</td>\n",
       "      <td>Jul 11, 2021 (United States)</td>\n",
       "      <td>Stars: LisaRaye McCoy, Ledisi, Kevin A. Walton...</td>\n",
       "      <td>Twice.Bitten.2021.1080p.AMZN.WEBRip.DDP2.0....</td>\n",
       "      <td>English</td>\n",
       "      <td>https ,  //www.imdb.com/title/tt14191916/</td>\n",
       "      <td>https://www.thenetnaija.co/videos/movies</td>\n",
       "      <td>https://www.secure.zabira.ng/register?utm_sour...</td>\n",
       "      <td>An unmitigated and sexy conman targets his nex...</td>\n",
       "      <td>2021</td>\n",
       "      <td>Jan 28</td>\n",
       "    </tr>\n",
       "  </tbody>\n",
       "</table>\n",
       "</div>"
      ],
      "text/plain": [
       "   Unnamed: 0                                       Title  Movie_type  \\\n",
       "0           0                                Clean (2022)    Movies     \n",
       "1           1  The Ice Age Adventures of Buck Wild (2022)    Movies     \n",
       "2           2                        In the Forest (2022)    Movies     \n",
       "3           3                         Twice Bitten (2021)    Movies     \n",
       "\n",
       "  Upload_date  Movie_length Num_of_comments  \\\n",
       "0  2022-01-28    01:33:27              56     \n",
       "1  2022-01-28    01:21:05              81     \n",
       "2  2022-01-28    01:23:11              39     \n",
       "3  2021-01-28    01:28:07              18     \n",
       "\n",
       "                                      Genres  \\\n",
       "0                   Crime, Drama, Thriller     \n",
       "1     Adventure, Animation, Comedy, Family     \n",
       "2                         Horror, Thriller     \n",
       "3             Jul 11, 2021 (United States)     \n",
       "\n",
       "                                        Release_date  \\\n",
       "0         Release Date: Jan 28, 2022 (United States)   \n",
       "1         Release Date: Jan 28, 2022 (United States)   \n",
       "2         Release Date: Jan 28, 2022 (United States)   \n",
       "3  Stars: LisaRaye McCoy, Ledisi, Kevin A. Walton...   \n",
       "\n",
       "                                               Stars      Language  \\\n",
       "0     Adrien Brody, Glenn Fleshler, Richie Merritt       English     \n",
       "1           Simon Pegg, Vincent Tong, Aaron Harris       English     \n",
       "2        Debbon Ayer, Cristina Spruell, Lyman Ward       English     \n",
       "3     Twice.Bitten.2021.1080p.AMZN.WEBRip.DDP2.0....     English     \n",
       "\n",
       "                                         Subtitle  \\\n",
       "0                                       English     \n",
       "1                                       English     \n",
       "2                                       English     \n",
       "3     https ,  //www.imdb.com/title/tt14191916/     \n",
       "\n",
       "                                 Movie_link  \\\n",
       "0  https://www.thenetnaija.co/videos/movies   \n",
       "1  https://www.thenetnaija.co/videos/movies   \n",
       "2  https://www.thenetnaija.co/videos/movies   \n",
       "3  https://www.thenetnaija.co/videos/movies   \n",
       "\n",
       "                                           Imdb_link  \\\n",
       "0  https://www.secure.zabira.ng/register?utm_sour...   \n",
       "1  https://www.secure.zabira.ng/register?utm_sour...   \n",
       "2  https://www.secure.zabira.ng/register?utm_sour...   \n",
       "3  https://www.secure.zabira.ng/register?utm_sour...   \n",
       "\n",
       "                                       Movie_summary  Year Month_day  \n",
       "0              <em>Revenge is a dirty business.</em>  2022   Jan 28   \n",
       "1                        <em>Disney+ gets wild.</em>  2022   Jan 28   \n",
       "2  Helen and her daughter Emily reluctantly accom...  2022   Jan 28   \n",
       "3  An unmitigated and sexy conman targets his nex...  2021   Jan 28   "
      ]
     },
     "execution_count": 16,
     "metadata": {},
     "output_type": "execute_result"
    }
   ],
   "source": [
    "df.head(4)"
   ]
  },
  {
   "cell_type": "code",
   "execution_count": 17,
   "id": "1445a18a",
   "metadata": {
    "scrolled": true
   },
   "outputs": [],
   "source": [
    "df['Movie_length']=pd.to_timedelta(df['Movie_length'], errors ='coerce',)"
   ]
  },
  {
   "cell_type": "code",
   "execution_count": 18,
   "id": "3322b66b",
   "metadata": {
    "scrolled": true
   },
   "outputs": [
    {
     "data": {
      "text/plain": [
       "Unnamed: 0         0\n",
       "Title              0\n",
       "Movie_type         0\n",
       "Upload_date        4\n",
       "Movie_length       1\n",
       "Num_of_comments    0\n",
       "Genres             0\n",
       "Release_date       0\n",
       "Stars              0\n",
       "Language           0\n",
       "Subtitle           0\n",
       "Movie_link         0\n",
       "Imdb_link          0\n",
       "Movie_summary      0\n",
       "Year               4\n",
       "Month_day          0\n",
       "dtype: int64"
      ]
     },
     "execution_count": 18,
     "metadata": {},
     "output_type": "execute_result"
    }
   ],
   "source": [
    "df.isnull().sum()"
   ]
  },
  {
   "cell_type": "code",
   "execution_count": 19,
   "id": "e5ffa0ff",
   "metadata": {},
   "outputs": [],
   "source": [
    "df=df.dropna()"
   ]
  },
  {
   "cell_type": "code",
   "execution_count": 20,
   "id": "c1be8cf8",
   "metadata": {},
   "outputs": [],
   "source": [
    "df=df.drop('Unnamed: 0', axis=1)"
   ]
  },
  {
   "cell_type": "code",
   "execution_count": 21,
   "id": "0a16d3c3",
   "metadata": {},
   "outputs": [],
   "source": [
    "df=df.set_index('Upload_date')"
   ]
  },
  {
   "cell_type": "code",
   "execution_count": 22,
   "id": "415d78a7",
   "metadata": {},
   "outputs": [],
   "source": [
    "df['Num_of_comments']=df['Num_of_comments'].astype(int) "
   ]
  },
  {
   "cell_type": "markdown",
   "id": "f1224a1d",
   "metadata": {},
   "source": [
    "## Exploratory Data analysis"
   ]
  },
  {
   "cell_type": "markdown",
   "id": "fa7c544f",
   "metadata": {},
   "source": [
    "**Questions**\n",
    "- Which year has the highest number of upload?\n",
    "- Find the number of movies by month in the year 2019\n",
    "- What movies has highest movie length?\n",
    "- Find movies which Jason Statham acted\n",
    "- compared number of movies with gnere horror and animation using a Piechart\n",
    "- show the distribution of comment using a Histograph"
   ]
  },
  {
   "cell_type": "code",
   "execution_count": 23,
   "id": "4a4ec48d",
   "metadata": {},
   "outputs": [
    {
     "data": {
      "text/html": [
       "<div>\n",
       "<style scoped>\n",
       "    .dataframe tbody tr th:only-of-type {\n",
       "        vertical-align: middle;\n",
       "    }\n",
       "\n",
       "    .dataframe tbody tr th {\n",
       "        vertical-align: top;\n",
       "    }\n",
       "\n",
       "    .dataframe thead th {\n",
       "        text-align: right;\n",
       "    }\n",
       "</style>\n",
       "<table border=\"1\" class=\"dataframe\">\n",
       "  <thead>\n",
       "    <tr style=\"text-align: right;\">\n",
       "      <th></th>\n",
       "      <th>Title</th>\n",
       "      <th>Movie_type</th>\n",
       "      <th>Movie_length</th>\n",
       "      <th>Num_of_comments</th>\n",
       "      <th>Genres</th>\n",
       "      <th>Release_date</th>\n",
       "      <th>Stars</th>\n",
       "      <th>Language</th>\n",
       "      <th>Subtitle</th>\n",
       "      <th>Movie_link</th>\n",
       "      <th>Imdb_link</th>\n",
       "      <th>Movie_summary</th>\n",
       "      <th>Year</th>\n",
       "      <th>Month_day</th>\n",
       "    </tr>\n",
       "    <tr>\n",
       "      <th>Upload_date</th>\n",
       "      <th></th>\n",
       "      <th></th>\n",
       "      <th></th>\n",
       "      <th></th>\n",
       "      <th></th>\n",
       "      <th></th>\n",
       "      <th></th>\n",
       "      <th></th>\n",
       "      <th></th>\n",
       "      <th></th>\n",
       "      <th></th>\n",
       "      <th></th>\n",
       "      <th></th>\n",
       "      <th></th>\n",
       "    </tr>\n",
       "  </thead>\n",
       "  <tbody>\n",
       "    <tr>\n",
       "      <th>2022-01-28</th>\n",
       "      <td>Clean (2022)</td>\n",
       "      <td>Movies</td>\n",
       "      <td>0 days 01:33:27</td>\n",
       "      <td>56</td>\n",
       "      <td>Crime, Drama, Thriller</td>\n",
       "      <td>Release Date: Jan 28, 2022 (United States)</td>\n",
       "      <td>Adrien Brody, Glenn Fleshler, Richie Merritt</td>\n",
       "      <td>English</td>\n",
       "      <td>English</td>\n",
       "      <td>https://www.thenetnaija.co/videos/movies</td>\n",
       "      <td>https://www.secure.zabira.ng/register?utm_sour...</td>\n",
       "      <td>&lt;em&gt;Revenge is a dirty business.&lt;/em&gt;</td>\n",
       "      <td>2022</td>\n",
       "      <td>Jan 28</td>\n",
       "    </tr>\n",
       "    <tr>\n",
       "      <th>2022-01-28</th>\n",
       "      <td>The Ice Age Adventures of Buck Wild (2022)</td>\n",
       "      <td>Movies</td>\n",
       "      <td>0 days 01:21:05</td>\n",
       "      <td>81</td>\n",
       "      <td>Adventure, Animation, Comedy, Family</td>\n",
       "      <td>Release Date: Jan 28, 2022 (United States)</td>\n",
       "      <td>Simon Pegg, Vincent Tong, Aaron Harris</td>\n",
       "      <td>English</td>\n",
       "      <td>English</td>\n",
       "      <td>https://www.thenetnaija.co/videos/movies</td>\n",
       "      <td>https://www.secure.zabira.ng/register?utm_sour...</td>\n",
       "      <td>&lt;em&gt;Disney+ gets wild.&lt;/em&gt;</td>\n",
       "      <td>2022</td>\n",
       "      <td>Jan 28</td>\n",
       "    </tr>\n",
       "  </tbody>\n",
       "</table>\n",
       "</div>"
      ],
      "text/plain": [
       "                                                  Title  Movie_type  \\\n",
       "Upload_date                                                           \n",
       "2022-01-28                                 Clean (2022)    Movies     \n",
       "2022-01-28   The Ice Age Adventures of Buck Wild (2022)    Movies     \n",
       "\n",
       "               Movie_length  Num_of_comments  \\\n",
       "Upload_date                                    \n",
       "2022-01-28  0 days 01:33:27               56   \n",
       "2022-01-28  0 days 01:21:05               81   \n",
       "\n",
       "                                                Genres  \\\n",
       "Upload_date                                              \n",
       "2022-01-28                    Crime, Drama, Thriller     \n",
       "2022-01-28      Adventure, Animation, Comedy, Family     \n",
       "\n",
       "                                           Release_date  \\\n",
       "Upload_date                                               \n",
       "2022-01-28   Release Date: Jan 28, 2022 (United States)   \n",
       "2022-01-28   Release Date: Jan 28, 2022 (United States)   \n",
       "\n",
       "                                                         Stars      Language  \\\n",
       "Upload_date                                                                    \n",
       "2022-01-28      Adrien Brody, Glenn Fleshler, Richie Merritt       English     \n",
       "2022-01-28            Simon Pegg, Vincent Tong, Aaron Harris       English     \n",
       "\n",
       "                 Subtitle                                Movie_link  \\\n",
       "Upload_date                                                           \n",
       "2022-01-28      English    https://www.thenetnaija.co/videos/movies   \n",
       "2022-01-28      English    https://www.thenetnaija.co/videos/movies   \n",
       "\n",
       "                                                     Imdb_link  \\\n",
       "Upload_date                                                      \n",
       "2022-01-28   https://www.secure.zabira.ng/register?utm_sour...   \n",
       "2022-01-28   https://www.secure.zabira.ng/register?utm_sour...   \n",
       "\n",
       "                                     Movie_summary  Year Month_day  \n",
       "Upload_date                                                         \n",
       "2022-01-28   <em>Revenge is a dirty business.</em>  2022   Jan 28   \n",
       "2022-01-28             <em>Disney+ gets wild.</em>  2022   Jan 28   "
      ]
     },
     "execution_count": 23,
     "metadata": {},
     "output_type": "execute_result"
    }
   ],
   "source": [
    "df.head(2)"
   ]
  },
  {
   "cell_type": "markdown",
   "id": "9568567e",
   "metadata": {},
   "source": [
    "## Which year has the highest number of upload?"
   ]
  },
  {
   "cell_type": "code",
   "execution_count": 24,
   "id": "d54eb57b",
   "metadata": {
    "scrolled": true
   },
   "outputs": [],
   "source": [
    "x=df['Year'].value_counts()"
   ]
  },
  {
   "cell_type": "code",
   "execution_count": 25,
   "id": "1b558e26",
   "metadata": {},
   "outputs": [
    {
     "data": {
      "image/png": "[encoded data removed]",
      "text/plain": [
       "<Figure size 720x360 with 1 Axes>"
      ]
     },
     "metadata": {
      "needs_background": "light"
     },
     "output_type": "display_data"
    }
   ],
   "source": [
    "fig = plt.figure(figsize=(10,5))\n",
    "order = sorted(list(x.index))\n",
    "plt.ylabel('Counts')\n",
    "plt.xlabel('Year')\n",
    "sns.barplot(x=x.index, y=x, order=order );"
   ]
  },
  {
   "cell_type": "markdown",
   "id": "81ef42ed",
   "metadata": {},
   "source": [
    "## Find the number of movies by month in the year 2019"
   ]
  },
  {
   "cell_type": "code",
   "execution_count": 26,
   "id": "46fc160a",
   "metadata": {},
   "outputs": [],
   "source": [
    "df_2019= df[df['Year']=='2019']\n",
    "count_2019=df_2019.resample('M').count()['Title']"
   ]
  },
  {
   "cell_type": "code",
   "execution_count": 27,
   "id": "e0e6d79f",
   "metadata": {},
   "outputs": [
    {
     "data": {
      "image/png": "[encoded data removed]",
      "text/plain": [
       "<Figure size 720x288 with 1 Axes>"
      ]
     },
     "metadata": {
      "needs_background": "light"
     },
     "output_type": "display_data"
    }
   ],
   "source": [
    "fig = plt.figure(figsize=(10,4))\n",
    "plt.ylabel('Counts')\n",
    "sns.barplot(x=count_2019.index, y=count_2019.values )\n",
    "plt.xticks(rotation=60);"
   ]
  },
  {
   "cell_type": "markdown",
   "id": "5008eee5",
   "metadata": {},
   "source": [
    "## What movies has highest movie length?"
   ]
  },
  {
   "cell_type": "code",
   "execution_count": 28,
   "id": "3f4bcf01",
   "metadata": {},
   "outputs": [
    {
     "data": {
      "text/html": [
       "<div>\n",
       "<style scoped>\n",
       "    .dataframe tbody tr th:only-of-type {\n",
       "        vertical-align: middle;\n",
       "    }\n",
       "\n",
       "    .dataframe tbody tr th {\n",
       "        vertical-align: top;\n",
       "    }\n",
       "\n",
       "    .dataframe thead th {\n",
       "        text-align: right;\n",
       "    }\n",
       "</style>\n",
       "<table border=\"1\" class=\"dataframe\">\n",
       "  <thead>\n",
       "    <tr style=\"text-align: right;\">\n",
       "      <th></th>\n",
       "      <th>Title</th>\n",
       "      <th>Movie_length</th>\n",
       "    </tr>\n",
       "    <tr>\n",
       "      <th>Upload_date</th>\n",
       "      <th></th>\n",
       "      <th></th>\n",
       "    </tr>\n",
       "  </thead>\n",
       "  <tbody>\n",
       "    <tr>\n",
       "      <th>2021-03-18</th>\n",
       "      <td>Zack Snyder s Justice League (2021)</td>\n",
       "      <td>0 days 04:02:03</td>\n",
       "    </tr>\n",
       "  </tbody>\n",
       "</table>\n",
       "</div>"
      ],
      "text/plain": [
       "                                           Title    Movie_length\n",
       "Upload_date                                                     \n",
       "2021-03-18   Zack Snyder s Justice League (2021) 0 days 04:02:03"
      ]
     },
     "execution_count": 28,
     "metadata": {},
     "output_type": "execute_result"
    }
   ],
   "source": [
    "df[df['Movie_length']==str(df['Movie_length'].max())][['Title','Movie_length']]"
   ]
  },
  {
   "cell_type": "markdown",
   "id": "0d54107a",
   "metadata": {},
   "source": [
    "## Find movies which Jason Statham stared in"
   ]
  },
  {
   "cell_type": "code",
   "execution_count": 29,
   "id": "083fd596",
   "metadata": {},
   "outputs": [
    {
     "data": {
      "text/html": [
       "<div>\n",
       "<style scoped>\n",
       "    .dataframe tbody tr th:only-of-type {\n",
       "        vertical-align: middle;\n",
       "    }\n",
       "\n",
       "    .dataframe tbody tr th {\n",
       "        vertical-align: top;\n",
       "    }\n",
       "\n",
       "    .dataframe thead th {\n",
       "        text-align: right;\n",
       "    }\n",
       "</style>\n",
       "<table border=\"1\" class=\"dataframe\">\n",
       "  <thead>\n",
       "    <tr style=\"text-align: right;\">\n",
       "      <th></th>\n",
       "      <th>Title</th>\n",
       "      <th>Genres</th>\n",
       "    </tr>\n",
       "    <tr>\n",
       "      <th>Upload_date</th>\n",
       "      <th></th>\n",
       "      <th></th>\n",
       "    </tr>\n",
       "  </thead>\n",
       "  <tbody>\n",
       "    <tr>\n",
       "      <th>2021-05-25</th>\n",
       "      <td>Wrath of Man (2021)</td>\n",
       "      <td>Action, Crime, Thriller</td>\n",
       "    </tr>\n",
       "    <tr>\n",
       "      <th>2019-08-06</th>\n",
       "      <td>Fast &amp; Furious Presents: Hobbs &amp; Shaw (2019)</td>\n",
       "      <td>Action, Adventure</td>\n",
       "    </tr>\n",
       "    <tr>\n",
       "      <th>2018-09-16</th>\n",
       "      <td>The Meg (2018)</td>\n",
       "      <td>Action, Horror, Sci-Fi, Thriller</td>\n",
       "    </tr>\n",
       "  </tbody>\n",
       "</table>\n",
       "</div>"
      ],
      "text/plain": [
       "                                                    Title  \\\n",
       "Upload_date                                                 \n",
       "2021-05-25                            Wrath of Man (2021)   \n",
       "2019-08-06   Fast & Furious Presents: Hobbs & Shaw (2019)   \n",
       "2018-09-16                                 The Meg (2018)   \n",
       "\n",
       "                                            Genres  \n",
       "Upload_date                                         \n",
       "2021-05-25              Action, Crime, Thriller     \n",
       "2019-08-06                     Action, Adventure    \n",
       "2018-09-16      Action, Horror, Sci-Fi, Thriller    "
      ]
     },
     "execution_count": 29,
     "metadata": {},
     "output_type": "execute_result"
    }
   ],
   "source": [
    "df[df['Stars'].str.contains('Jason Statham')][['Title','Genres']]"
   ]
  },
  {
   "cell_type": "markdown",
   "id": "934ed38d",
   "metadata": {},
   "source": [
    "## Show Percentage Representation of Action, Drama, Romance, Comedy and Thriller genres in pie_graph"
   ]
  },
  {
   "cell_type": "code",
   "execution_count": 30,
   "id": "33a4c98a",
   "metadata": {},
   "outputs": [],
   "source": [
    "Action=df['Genres'].str.contains('Action').sum()\n",
    "Drama=df['Genres'].str.contains('Drama').sum()\n",
    "Romance =df['Genres'].str.contains('Romance ').sum()\n",
    "Comedy=Animation=df['Genres'].str.contains('Comedy').sum()\n",
    "Thriller=Animation=df['Genres'].str.contains('Thriller').sum()\n",
    "geners =[Action, Drama, Romance, Comedy, Thriller]"
   ]
  },
  {
   "cell_type": "code",
   "execution_count": 31,
   "id": "4dadfbd0",
   "metadata": {},
   "outputs": [
    {
     "data": {
      "image/png": "[encoded data removed]",
      "text/plain": [
       "<Figure size 504x504 with 1 Axes>"
      ]
     },
     "metadata": {},
     "output_type": "display_data"
    }
   ],
   "source": [
    "\n",
    "plt.figure(figsize = (7,7))\n",
    "plt.title(f'Percentage Representation of Action, Drama, Romance, Comedy and Thriller genres in pie_graph')\n",
    "\n",
    "plt.pie(sorted(geners), labels = {'Romance', 'Thriller' ,'Action', 'Comedy',  'Drama'}, autopct = '%1.2f%%');"
   ]
  },
  {
   "cell_type": "markdown",
   "id": "9cd71bc1",
   "metadata": {},
   "source": [
    "## Show the trend in number of uploads per month"
   ]
  },
  {
   "cell_type": "code",
   "execution_count": 32,
   "id": "45a66326",
   "metadata": {},
   "outputs": [],
   "source": [
    "monthly_resample=df.resample('M').count()['Title']"
   ]
  },
  {
   "cell_type": "code",
   "execution_count": 33,
   "id": "3638c74f",
   "metadata": {
    "scrolled": true
   },
   "outputs": [
    {
     "data": {
      "image/png": "[encoded data removed]",
      "text/plain": [
       "<Figure size 1080x288 with 1 Axes>"
      ]
     },
     "metadata": {
      "needs_background": "light"
     },
     "output_type": "display_data"
    }
   ],
   "source": [
    "plt.figure(figsize=(15,4))\n",
    "plt.title('Uploads per Month', fontsize=16,)\n",
    "plt.ylabel('Counts')\n",
    "sns.lineplot(x=monthly_resample.index, y=monthly_resample);"
   ]
  },
  {
   "cell_type": "code",
   "execution_count": null,
   "id": "0155041a",
   "metadata": {},
   "outputs": [],
   "source": []
  }
 ],
 "metadata": {
  "kernelspec": {
   "display_name": "Python 3 (ipykernel)",
   "language": "python",
   "name": "python3"
  },
  "language_info": {
   "codemirror_mode": {
    "name": "ipython",
    "version": 3
   },
   "file_extension": ".py",
   "mimetype": "text/x-python",
   "name": "python",
   "nbconvert_exporter": "python",
   "pygments_lexer": "ipython3",
   "version": "3.10.0"
  }
 },
 "nbformat": 4,
 "nbformat_minor": 5
}
