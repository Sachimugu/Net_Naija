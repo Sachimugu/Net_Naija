{
 "cells": [
  {
   "cell_type": "code",
   "execution_count": 1,
   "id": "634ea610",
   "metadata": {},
   "outputs": [],
   "source": [
    "#imports required packages\n",
    "import pandas as pd \n",
    "from matplotlib import pyplot as plt\n",
    "import seaborn as sns\n",
    "import numpy as np\n",
    "import warnings\n",
    "warnings.filterwarnings('ignore')"
   ]
  },
  {
   "cell_type": "code",
   "execution_count": 2,
   "id": "1ebdd48b",
   "metadata": {},
   "outputs": [],
   "source": [
    "#reads dataset\n",
    "df=pd.read_csv('../Dataset/netnaija_movie.csv')\n",
    "df=df.drop('Unnamed: 0', axis=1)"
   ]
  },
  {
   "cell_type": "code",
   "execution_count": 3,
   "id": "1570ffad",
   "metadata": {},
   "outputs": [
    {
     "data": {
      "text/html": [
       "<div>\n",
       "<style scoped>\n",
       "    .dataframe tbody tr th:only-of-type {\n",
       "        vertical-align: middle;\n",
       "    }\n",
       "\n",
       "    .dataframe tbody tr th {\n",
       "        vertical-align: top;\n",
       "    }\n",
       "\n",
       "    .dataframe thead th {\n",
       "        text-align: right;\n",
       "    }\n",
       "</style>\n",
       "<table border=\"1\" class=\"dataframe\">\n",
       "  <thead>\n",
       "    <tr style=\"text-align: right;\">\n",
       "      <th></th>\n",
       "      <th>titles</th>\n",
       "      <th>movie_types</th>\n",
       "      <th>time_of_uplos</th>\n",
       "      <th>movie_lengths</th>\n",
       "      <th>num_of_comments</th>\n",
       "      <th>Genres</th>\n",
       "      <th>Release_Dates</th>\n",
       "      <th>Starss</th>\n",
       "      <th>Languages</th>\n",
       "      <th>Subtitles</th>\n",
       "      <th>movie_linkss</th>\n",
       "      <th>imdb_links</th>\n",
       "      <th>mo_summarys</th>\n",
       "    </tr>\n",
       "  </thead>\n",
       "  <tbody>\n",
       "    <tr>\n",
       "      <th>0</th>\n",
       "      <td>Clean (2022)</td>\n",
       "      <td>['Movies']</td>\n",
       "      <td>Jan 28</td>\n",
       "      <td>['01:33:27']</td>\n",
       "      <td>['56']</td>\n",
       "      <td>[' Crime, Drama, Thriller']</td>\n",
       "      <td>Release Date: Jan 28, 2022 (United States)</td>\n",
       "      <td>[' Adrien Brody, Glenn Fleshler, Richie Merritt']</td>\n",
       "      <td>[' English']</td>\n",
       "      <td>[' English']</td>\n",
       "      <td>https://www.thenetnaija.co/videos/movies</td>\n",
       "      <td>https://www.secure.zabira.ng/register?utm_sour...</td>\n",
       "      <td>&lt;em&gt;Revenge is a dirty business.&lt;/em&gt;</td>\n",
       "    </tr>\n",
       "    <tr>\n",
       "      <th>1</th>\n",
       "      <td>The Ice Age Adventures of Buck Wild (2022)</td>\n",
       "      <td>['Movies']</td>\n",
       "      <td>Jan 28</td>\n",
       "      <td>['01:21:05']</td>\n",
       "      <td>['81']</td>\n",
       "      <td>[' Adventure, Animation, Comedy, Family']</td>\n",
       "      <td>Release Date: Jan 28, 2022 (United States)</td>\n",
       "      <td>[' Simon Pegg, Vincent Tong, Aaron Harris']</td>\n",
       "      <td>[' English']</td>\n",
       "      <td>[' English']</td>\n",
       "      <td>https://www.thenetnaija.co/videos/movies</td>\n",
       "      <td>https://www.secure.zabira.ng/register?utm_sour...</td>\n",
       "      <td>&lt;em&gt;Disney+ gets wild.&lt;/em&gt;</td>\n",
       "    </tr>\n",
       "    <tr>\n",
       "      <th>2</th>\n",
       "      <td>In the Forest (2022)</td>\n",
       "      <td>['Movies']</td>\n",
       "      <td>Jan 28</td>\n",
       "      <td>['01:23:11']</td>\n",
       "      <td>['39']</td>\n",
       "      <td>[' Horror, Thriller']</td>\n",
       "      <td>Release Date: Jan 28, 2022 (United States)</td>\n",
       "      <td>[' Debbon Ayer, Cristina Spruell, Lyman Ward']</td>\n",
       "      <td>[' English']</td>\n",
       "      <td>[' English']</td>\n",
       "      <td>https://www.thenetnaija.co/videos/movies</td>\n",
       "      <td>https://www.secure.zabira.ng/register?utm_sour...</td>\n",
       "      <td>Helen and her daughter Emily reluctantly accom...</td>\n",
       "    </tr>\n",
       "    <tr>\n",
       "      <th>3</th>\n",
       "      <td>Twice Bitten (2021)</td>\n",
       "      <td>['Movies']</td>\n",
       "      <td>Jan 28</td>\n",
       "      <td>['01:28:07']</td>\n",
       "      <td>['18']</td>\n",
       "      <td>[' Jul 11, 2021 (United States)']</td>\n",
       "      <td>Stars: LisaRaye McCoy, Ledisi, Kevin A. Walton...</td>\n",
       "      <td>[' Twice.Bitten.2021.1080p.AMZN.WEBRip.DDP2.0....</td>\n",
       "      <td>[' English']</td>\n",
       "      <td>[' https', '//www.imdb.com/title/tt14191916/']</td>\n",
       "      <td>https://www.thenetnaija.co/videos/movies</td>\n",
       "      <td>https://www.secure.zabira.ng/register?utm_sour...</td>\n",
       "      <td>An unmitigated and sexy conman targets his nex...</td>\n",
       "    </tr>\n",
       "  </tbody>\n",
       "</table>\n",
       "</div>"
      ],
      "text/plain": [
       "                                       titles movie_types time_of_uplos  \\\n",
       "0                                Clean (2022)  ['Movies']        Jan 28   \n",
       "1  The Ice Age Adventures of Buck Wild (2022)  ['Movies']        Jan 28   \n",
       "2                        In the Forest (2022)  ['Movies']        Jan 28   \n",
       "3                         Twice Bitten (2021)  ['Movies']        Jan 28   \n",
       "\n",
       "  movie_lengths num_of_comments                                     Genres  \\\n",
       "0  ['01:33:27']          ['56']                [' Crime, Drama, Thriller']   \n",
       "1  ['01:21:05']          ['81']  [' Adventure, Animation, Comedy, Family']   \n",
       "2  ['01:23:11']          ['39']                      [' Horror, Thriller']   \n",
       "3  ['01:28:07']          ['18']          [' Jul 11, 2021 (United States)']   \n",
       "\n",
       "                                       Release_Dates  \\\n",
       "0         Release Date: Jan 28, 2022 (United States)   \n",
       "1         Release Date: Jan 28, 2022 (United States)   \n",
       "2         Release Date: Jan 28, 2022 (United States)   \n",
       "3  Stars: LisaRaye McCoy, Ledisi, Kevin A. Walton...   \n",
       "\n",
       "                                              Starss     Languages  \\\n",
       "0  [' Adrien Brody, Glenn Fleshler, Richie Merritt']  [' English']   \n",
       "1        [' Simon Pegg, Vincent Tong, Aaron Harris']  [' English']   \n",
       "2     [' Debbon Ayer, Cristina Spruell, Lyman Ward']  [' English']   \n",
       "3  [' Twice.Bitten.2021.1080p.AMZN.WEBRip.DDP2.0....  [' English']   \n",
       "\n",
       "                                        Subtitles  \\\n",
       "0                                    [' English']   \n",
       "1                                    [' English']   \n",
       "2                                    [' English']   \n",
       "3  [' https', '//www.imdb.com/title/tt14191916/']   \n",
       "\n",
       "                               movie_linkss  \\\n",
       "0  https://www.thenetnaija.co/videos/movies   \n",
       "1  https://www.thenetnaija.co/videos/movies   \n",
       "2  https://www.thenetnaija.co/videos/movies   \n",
       "3  https://www.thenetnaija.co/videos/movies   \n",
       "\n",
       "                                          imdb_links  \\\n",
       "0  https://www.secure.zabira.ng/register?utm_sour...   \n",
       "1  https://www.secure.zabira.ng/register?utm_sour...   \n",
       "2  https://www.secure.zabira.ng/register?utm_sour...   \n",
       "3  https://www.secure.zabira.ng/register?utm_sour...   \n",
       "\n",
       "                                         mo_summarys  \n",
       "0              <em>Revenge is a dirty business.</em>  \n",
       "1                        <em>Disney+ gets wild.</em>  \n",
       "2  Helen and her daughter Emily reluctantly accom...  \n",
       "3  An unmitigated and sexy conman targets his nex...  "
      ]
     },
     "execution_count": 3,
     "metadata": {},
     "output_type": "execute_result"
    }
   ],
   "source": [
    "df.head(4)"
   ]
  },
  {
   "cell_type": "code",
   "execution_count": 4,
   "id": "6d78b4e6",
   "metadata": {
    "scrolled": true
   },
   "outputs": [
    {
     "name": "stdout",
     "output_type": "stream",
     "text": [
      "number of rows are: 3073\n",
      "number of columns are: 13\n"
     ]
    }
   ],
   "source": [
    "print('number of rows are:', df.shape[0]) \n",
    "print('number of columns are:', df.shape[1])"
   ]
  },
  {
   "cell_type": "code",
   "execution_count": 5,
   "id": "83c61651",
   "metadata": {},
   "outputs": [
    {
     "name": "stdout",
     "output_type": "stream",
     "text": [
      "<class 'pandas.core.frame.DataFrame'>\n",
      "RangeIndex: 3073 entries, 0 to 3072\n",
      "Data columns (total 13 columns):\n",
      " #   Column           Non-Null Count  Dtype \n",
      "---  ------           --------------  ----- \n",
      " 0   titles           3073 non-null   object\n",
      " 1   movie_types      3073 non-null   object\n",
      " 2   time_of_uplos    3073 non-null   object\n",
      " 3   movie_lengths    3073 non-null   object\n",
      " 4   num_of_comments  3073 non-null   object\n",
      " 5   Genres           3073 non-null   object\n",
      " 6   Release_Dates    3073 non-null   object\n",
      " 7   Starss           3073 non-null   object\n",
      " 8   Languages        3073 non-null   object\n",
      " 9   Subtitles        3073 non-null   object\n",
      " 10  movie_linkss     3073 non-null   object\n",
      " 11  imdb_links       3073 non-null   object\n",
      " 12  mo_summarys      3073 non-null   object\n",
      "dtypes: object(13)\n",
      "memory usage: 312.2+ KB\n"
     ]
    }
   ],
   "source": [
    "df.info() "
   ]
  },
  {
   "cell_type": "code",
   "execution_count": 6,
   "id": "5993026f",
   "metadata": {},
   "outputs": [
    {
     "data": {
      "text/plain": [
       "Index(['titles', 'movie_types', 'time_of_uplos', 'movie_lengths',\n",
       "       'num_of_comments', 'Genres', 'Release_Dates', 'Starss', 'Languages',\n",
       "       'Subtitles', 'movie_linkss', 'imdb_links', 'mo_summarys'],\n",
       "      dtype='object')"
      ]
     },
     "execution_count": 6,
     "metadata": {},
     "output_type": "execute_result"
    }
   ],
   "source": [
    "df.columns"
   ]
  },
  {
   "cell_type": "code",
   "execution_count": 7,
   "id": "e98d2864",
   "metadata": {},
   "outputs": [],
   "source": [
    "#renames columns\n",
    "df=df.rename(columns={\n",
    "    'time_of_uplos':'Upload_date',\n",
    "    'movie_lengths':'Movie_length',\n",
    "    'titles':'Title',\n",
    "    'movie_types':'Movie_type',\n",
    "    'Genres':'Genres',\n",
    "    'Release_Dates':'Release_date',\n",
    "    'Starss':'Stars',\n",
    "    'num_of_comments':'Num_of_comments',\n",
    "    'Languages':'Language',\n",
    "    'Subtitles':'Subtitle',\n",
    "    'movie_linkss':'Movie_link',\n",
    "    'imdb_links':'Imdb_link', \n",
    "    'mo_summarys':'Movie_summary'\n",
    "    })"
   ]
  },
  {
   "cell_type": "code",
   "execution_count": 8,
   "id": "af087229",
   "metadata": {},
   "outputs": [],
   "source": [
    "#Function to remove brackets, comma and appostrophies\n",
    "def rmbracket(columns):\n",
    "    columns=columns.str.replace('[','')\n",
    "    columns=columns.str.replace(']','')\n",
    "    columns=columns.str.replace('\\'','')\n",
    "    return columns"
   ]
  },
  {
   "cell_type": "code",
   "execution_count": 9,
   "id": "f463aa64",
   "metadata": {},
   "outputs": [],
   "source": [
    "# Removes brackets and apostrophies in below columns\n",
    "df['Title']=rmbracket(df['Title'])\n",
    "df['Movie_type']=rmbracket(df['Movie_type'])\n",
    "df['Movie_length']=rmbracket(df['Movie_length'])\n",
    "df['Num_of_comments']=rmbracket(df['Num_of_comments'])\n",
    "df['Genres']=rmbracket(df['Genres'])\n",
    "df['Stars']=rmbracket(df['Stars'])\n",
    "df['Language']=rmbracket(df['Language'])\n",
    "df['Subtitle']=rmbracket(df['Subtitle'])\n",
    "df['Movie_summary']=df['Movie_summary'].str.replace('<em>','')\n",
    "df['Movie_summary']=df['Movie_summary'].str.replace('</em>','')"
   ]
  },
  {
   "cell_type": "code",
   "execution_count": 10,
   "id": "ce61f2a5",
   "metadata": {
    "scrolled": true
   },
   "outputs": [
    {
     "name": "stdout",
     "output_type": "stream",
     "text": [
      "<class 'pandas.core.frame.DataFrame'>\n",
      "RangeIndex: 3073 entries, 0 to 3072\n",
      "Data columns (total 13 columns):\n",
      " #   Column           Non-Null Count  Dtype \n",
      "---  ------           --------------  ----- \n",
      " 0   Title            3073 non-null   object\n",
      " 1   Movie_type       3073 non-null   object\n",
      " 2   Upload_date      3073 non-null   object\n",
      " 3   Movie_length     3073 non-null   object\n",
      " 4   Num_of_comments  3073 non-null   object\n",
      " 5   Genres           3073 non-null   object\n",
      " 6   Release_date     3073 non-null   object\n",
      " 7   Stars            3073 non-null   object\n",
      " 8   Language         3073 non-null   object\n",
      " 9   Subtitle         3073 non-null   object\n",
      " 10  Movie_link       3073 non-null   object\n",
      " 11  Imdb_link        3073 non-null   object\n",
      " 12  Movie_summary    3073 non-null   object\n",
      "dtypes: object(13)\n",
      "memory usage: 312.2+ KB\n"
     ]
    }
   ],
   "source": [
    "df.info()"
   ]
  },
  {
   "cell_type": "code",
   "execution_count": 11,
   "id": "cb644549",
   "metadata": {},
   "outputs": [],
   "source": [
    "# Match year pattern which are always in 4 consercutive digits\n",
    "year_matched=df['Title'].str.findall('(\\d{4})')\n",
    "\n",
    "Year = []\n",
    "for i in year_matched:\n",
    "    try:\n",
    "        Year.append(i[-1])\n",
    "    except:\n",
    "        Year.append(np.nan)\n",
    "        \n",
    "# MAkes a new column for year\n",
    "df['year']=Year    "
   ]
  },
  {
   "cell_type": "code",
   "execution_count": 12,
   "id": "23528881",
   "metadata": {
    "scrolled": true
   },
   "outputs": [],
   "source": [
    "#split the upload date into month and year\n",
    "month_year_split=df['Upload_date'].str.split(',')\n",
    "\n",
    "month_day = []\n",
    "for i in month_year_split:\n",
    "    try:\n",
    "        month_day.append(f'{i[0]} ')\n",
    "    except:\n",
    "        month_day.append(np.nan)\n",
    "        \n",
    "df['Month_day']=month_day"
   ]
  },
  {
   "cell_type": "code",
   "execution_count": 13,
   "id": "8f249213",
   "metadata": {},
   "outputs": [],
   "source": [
    "df['Upload_date'] = df['Month_day'] + df['year'] \n",
    "df['Upload_date']=pd.to_datetime(df['Upload_date']) "
   ]
  },
  {
   "cell_type": "code",
   "execution_count": 14,
   "id": "d98ba799",
   "metadata": {},
   "outputs": [],
   "source": [
    "# convert movie length to a time delta\n",
    "df['Movie_length']=pd.to_timedelta(df['Movie_length'], errors ='coerce')"
   ]
  },
  {
   "cell_type": "code",
   "execution_count": 15,
   "id": "65dccdff",
   "metadata": {},
   "outputs": [],
   "source": [
    "# convert Num_of_comments to integer dtype\n",
    "df['Num_of_comments']=df['Num_of_comments'].astype(int)"
   ]
  },
  {
   "cell_type": "code",
   "execution_count": 16,
   "id": "2f780683",
   "metadata": {},
   "outputs": [],
   "source": [
    "#cleanng the title column\n",
    "df['Title']=df['Title'].str.replace('(\\d{4})','', regex=True)\n",
    "df['Title']=df['Title'].str.strip(r'()')\n",
    "df['Title']=df['Title'].str.replace(r'(','', regex=True)\n",
    "df['Title']=df['Title'].str.replace(r')','', regex=True)\n",
    "df['Title']=df['Title'].str.rstrip(r' ')"
   ]
  },
  {
   "cell_type": "code",
   "execution_count": 17,
   "id": "6e57cfb2",
   "metadata": {
    "scrolled": true
   },
   "outputs": [
    {
     "data": {
      "text/plain": [
       "Title                0\n",
       "Movie_type           0\n",
       "Upload_date          4\n",
       "Movie_length         1\n",
       "Num_of_comments      0\n",
       "Genres              86\n",
       "Release_date        86\n",
       "Stars               86\n",
       "Language           173\n",
       "Subtitle           227\n",
       "Movie_link           0\n",
       "Imdb_link           83\n",
       "Movie_summary        0\n",
       "year                 4\n",
       "Month_day            0\n",
       "dtype: int64"
      ]
     },
     "execution_count": 17,
     "metadata": {},
     "output_type": "execute_result"
    }
   ],
   "source": [
    "# Replace missing values with NAN\n",
    "df=df.replace('missing',np.nan)\n",
    "df.isnull().sum()"
   ]
  },
  {
   "cell_type": "code",
   "execution_count": 18,
   "id": "90f8dc69",
   "metadata": {},
   "outputs": [],
   "source": [
    "#In the subtitle column some have \\n newline which will be removed and some contain links which will be replace by none.\n",
    "#Fromat the Subtitle column\n",
    "df['Subtitle']=df['Subtitle'].str.strip(' ')\n",
    "df['Subtitle']=df['Subtitle'].str.strip(r'\\n')\n",
    "df['Subtitle']=df['Subtitle'].str.strip(r'\\xa0')\n",
    "df['Subtitle']=df['Subtitle'].str.replace('https.*','None', regex=True)\n",
    "df['Subtitle']=df['Subtitle'].str.replace('English.*','English', regex=True)\n",
    "df['Subtitle']=df['Subtitle'].str.replace('Kore.*','Korean', regex=True)\n",
    "df['Subtitle']=df['Subtitle'].str.replace('N/A.*','None)', regex=True)\n",
    "df['Subtitle']=df['Subtitle'].str.replace('Chinese.*','Chinese', regex=True)\n",
    "df['Subtitle']=df['Subtitle'].str.replace('None.*','None', regex=True)"
   ]
  },
  {
   "cell_type": "code",
   "execution_count": 19,
   "id": "4b2c8c8e",
   "metadata": {},
   "outputs": [],
   "source": [
    "#Fromat the release date column\n",
    "df['Release_date']=df['Release_date'].str.strip(' ')\n",
    "df['Release_date']=df['Release_date'].str.strip('Release Date:')\n",
    "df['Release_date']=df['Release_date'].str.replace('\\(.*', '',regex=True)\n",
    "df['Release_date']=pd.to_datetime(df['Release_date'], errors ='coerce')"
   ]
  },
  {
   "cell_type": "code",
   "execution_count": 20,
   "id": "6af4287b",
   "metadata": {},
   "outputs": [],
   "source": [
    "#cleaning the the language columns\n",
    "df['Language']=df['Language'].str.strip(' ')\n",
    "df['Language']=df['Language'].str.strip(r'\\xa0')\n",
    "df['Language']=df['Language'].str.replace('Engl.*','English', regex=True)\n",
    "df['Language']=df['Language'].str.replace('Boy.*','English', regex=True)\n",
    "\n",
    "df['Language']=df['Language'].str.replace('Kore.*','Korean', regex=True)\n",
    "df['Language']=df['Language'].str.replace('Mala.*','Malay', regex=True)\n",
    "df['Language']=df['Language'].str.replace('Filipin.*','Filipino', regex=True)\n",
    "df['Language']=df['Language'].str.replace('Indone.*','Indonesian', regex=True)\n",
    "df['Language']=df['Language'].str.replace('Italia.*','Italian', regex=True)\n",
    "\n",
    "df['Language']=df['Language'].str.replace('Japan.*','Japanese', regex=True)\n",
    "df['Language']=df['Language'].str.replace('Germa.*','German', regex=True)\n",
    "df['Language']=df['Language'].str.replace('Span.*','Spanish', regex=True)\n",
    "df['Language']=df['Language'].str.replace('Frenc.*','French', regex=True)\n",
    "\n",
    "india = ['Hind.*', 'India.*','india.*', 'Tami.*','Telug.*', 'Saty.*']\n",
    "for x in india:\n",
    "    df['Language']=df['Language'].str.replace(x,'Indian', regex=True)\n",
    "    \n",
    "Chinese = ['Chine.*', 'Manda.*', 'Canton.*']\n",
    "for x in Chinese:\n",
    "    df['Language']=df['Language'].str.replace(x,'Chinese', regex=True)\n"
   ]
  },
  {
   "cell_type": "code",
   "execution_count": 21,
   "id": "711ce8ba",
   "metadata": {
    "scrolled": true
   },
   "outputs": [
    {
     "data": {
      "text/plain": [
       "Index(['Title', 'Movie_type', 'Upload_date', 'Movie_length', 'Num_of_comments',\n",
       "       'Genres', 'Release_date', 'Stars', 'Language', 'Subtitle', 'Movie_link',\n",
       "       'Imdb_link', 'Movie_summary', 'year', 'Month_day'],\n",
       "      dtype='object')"
      ]
     },
     "execution_count": 21,
     "metadata": {},
     "output_type": "execute_result"
    }
   ],
   "source": [
    "df.columns"
   ]
  },
  {
   "cell_type": "code",
   "execution_count": 22,
   "id": "0aa1c7c6",
   "metadata": {},
   "outputs": [],
   "source": [
    "df=df.drop(df[df['year']=='2011'].index)\n",
    "df=df.drop(df[df['year']=='2013'].index)"
   ]
  },
  {
   "cell_type": "code",
   "execution_count": 23,
   "id": "9c32049a",
   "metadata": {},
   "outputs": [],
   "source": [
    "# drop NaN row and column not relevant to analysis\n",
    "df=df.dropna()\n",
    "df=df.drop(['year','Month_day','Imdb_link','Movie_link'], axis=1)"
   ]
  },
  {
   "cell_type": "code",
   "execution_count": 24,
   "id": "6437293c",
   "metadata": {
    "scrolled": false
   },
   "outputs": [
    {
     "data": {
      "text/html": [
       "<div>\n",
       "<style scoped>\n",
       "    .dataframe tbody tr th:only-of-type {\n",
       "        vertical-align: middle;\n",
       "    }\n",
       "\n",
       "    .dataframe tbody tr th {\n",
       "        vertical-align: top;\n",
       "    }\n",
       "\n",
       "    .dataframe thead th {\n",
       "        text-align: right;\n",
       "    }\n",
       "</style>\n",
       "<table border=\"1\" class=\"dataframe\">\n",
       "  <thead>\n",
       "    <tr style=\"text-align: right;\">\n",
       "      <th></th>\n",
       "      <th>Title</th>\n",
       "      <th>Movie_type</th>\n",
       "      <th>Upload_date</th>\n",
       "      <th>Movie_length</th>\n",
       "      <th>Num_of_comments</th>\n",
       "      <th>Genres</th>\n",
       "      <th>Release_date</th>\n",
       "      <th>Stars</th>\n",
       "      <th>Language</th>\n",
       "      <th>Subtitle</th>\n",
       "      <th>Movie_summary</th>\n",
       "    </tr>\n",
       "  </thead>\n",
       "  <tbody>\n",
       "    <tr>\n",
       "      <th>0</th>\n",
       "      <td>Clean</td>\n",
       "      <td>Movies</td>\n",
       "      <td>2022-01-28</td>\n",
       "      <td>0 days 01:33:27</td>\n",
       "      <td>56</td>\n",
       "      <td>Crime, Drama, Thriller</td>\n",
       "      <td>2022-01-28</td>\n",
       "      <td>Adrien Brody, Glenn Fleshler, Richie Merritt</td>\n",
       "      <td>English</td>\n",
       "      <td>English</td>\n",
       "      <td>Revenge is a dirty business.</td>\n",
       "    </tr>\n",
       "    <tr>\n",
       "      <th>1</th>\n",
       "      <td>The Ice Age Adventures of Buck Wild</td>\n",
       "      <td>Movies</td>\n",
       "      <td>2022-01-28</td>\n",
       "      <td>0 days 01:21:05</td>\n",
       "      <td>81</td>\n",
       "      <td>Adventure, Animation, Comedy, Family</td>\n",
       "      <td>2022-01-28</td>\n",
       "      <td>Simon Pegg, Vincent Tong, Aaron Harris</td>\n",
       "      <td>English</td>\n",
       "      <td>English</td>\n",
       "      <td>Disney+ gets wild.</td>\n",
       "    </tr>\n",
       "    <tr>\n",
       "      <th>2</th>\n",
       "      <td>In the Forest</td>\n",
       "      <td>Movies</td>\n",
       "      <td>2022-01-28</td>\n",
       "      <td>0 days 01:23:11</td>\n",
       "      <td>39</td>\n",
       "      <td>Horror, Thriller</td>\n",
       "      <td>2022-01-28</td>\n",
       "      <td>Debbon Ayer, Cristina Spruell, Lyman Ward</td>\n",
       "      <td>English</td>\n",
       "      <td>English</td>\n",
       "      <td>Helen and her daughter Emily reluctantly accom...</td>\n",
       "    </tr>\n",
       "    <tr>\n",
       "      <th>4</th>\n",
       "      <td>The Fallout</td>\n",
       "      <td>Movies</td>\n",
       "      <td>2022-01-27</td>\n",
       "      <td>0 days 01:36:00</td>\n",
       "      <td>34</td>\n",
       "      <td>Drama</td>\n",
       "      <td>2022-01-27</td>\n",
       "      <td>Jenna Ortega, Shailene Woodley, Julie Bowen</td>\n",
       "      <td>English</td>\n",
       "      <td>English</td>\n",
       "      <td>Nothing will ever be the same.</td>\n",
       "    </tr>\n",
       "  </tbody>\n",
       "</table>\n",
       "</div>"
      ],
      "text/plain": [
       "                                 Title Movie_type Upload_date    Movie_length  \\\n",
       "0                                Clean     Movies  2022-01-28 0 days 01:33:27   \n",
       "1  The Ice Age Adventures of Buck Wild     Movies  2022-01-28 0 days 01:21:05   \n",
       "2                        In the Forest     Movies  2022-01-28 0 days 01:23:11   \n",
       "4                          The Fallout     Movies  2022-01-27 0 days 01:36:00   \n",
       "\n",
       "   Num_of_comments                                 Genres Release_date  \\\n",
       "0               56                 Crime, Drama, Thriller   2022-01-28   \n",
       "1               81   Adventure, Animation, Comedy, Family   2022-01-28   \n",
       "2               39                       Horror, Thriller   2022-01-28   \n",
       "4               34                                  Drama   2022-01-27   \n",
       "\n",
       "                                           Stars Language Subtitle  \\\n",
       "0   Adrien Brody, Glenn Fleshler, Richie Merritt  English  English   \n",
       "1         Simon Pegg, Vincent Tong, Aaron Harris  English  English   \n",
       "2      Debbon Ayer, Cristina Spruell, Lyman Ward  English  English   \n",
       "4    Jenna Ortega, Shailene Woodley, Julie Bowen  English  English   \n",
       "\n",
       "                                       Movie_summary  \n",
       "0                       Revenge is a dirty business.  \n",
       "1                                 Disney+ gets wild.  \n",
       "2  Helen and her daughter Emily reluctantly accom...  \n",
       "4                     Nothing will ever be the same.  "
      ]
     },
     "execution_count": 24,
     "metadata": {},
     "output_type": "execute_result"
    }
   ],
   "source": [
    "df.head(4)"
   ]
  },
  {
   "cell_type": "code",
   "execution_count": 25,
   "id": "b9b3f4e3",
   "metadata": {
    "scrolled": true
   },
   "outputs": [
    {
     "name": "stdout",
     "output_type": "stream",
     "text": [
      "<class 'pandas.core.frame.DataFrame'>\n",
      "Int64Index: 2501 entries, 0 to 2903\n",
      "Data columns (total 11 columns):\n",
      " #   Column           Non-Null Count  Dtype          \n",
      "---  ------           --------------  -----          \n",
      " 0   Title            2501 non-null   object         \n",
      " 1   Movie_type       2501 non-null   object         \n",
      " 2   Upload_date      2501 non-null   datetime64[ns] \n",
      " 3   Movie_length     2501 non-null   timedelta64[ns]\n",
      " 4   Num_of_comments  2501 non-null   int64          \n",
      " 5   Genres           2501 non-null   object         \n",
      " 6   Release_date     2501 non-null   datetime64[ns] \n",
      " 7   Stars            2501 non-null   object         \n",
      " 8   Language         2501 non-null   object         \n",
      " 9   Subtitle         2501 non-null   object         \n",
      " 10  Movie_summary    2501 non-null   object         \n",
      "dtypes: datetime64[ns](2), int64(1), object(7), timedelta64[ns](1)\n",
      "memory usage: 234.5+ KB\n"
     ]
    }
   ],
   "source": [
    "df.info()"
   ]
  },
  {
   "cell_type": "code",
   "execution_count": null,
   "id": "9b29c2f8",
   "metadata": {},
   "outputs": [],
   "source": []
  },
  {
   "cell_type": "code",
   "execution_count": 26,
   "id": "682edeea",
   "metadata": {},
   "outputs": [],
   "source": [
    "#set index as Upload_date\n",
    "df=df.set_index(df['Upload_date'])"
   ]
  },
  {
   "cell_type": "markdown",
   "id": "7ef96f56",
   "metadata": {},
   "source": [
    "## Exploratory Data analysis"
   ]
  },
  {
   "cell_type": "markdown",
   "id": "0e12542a",
   "metadata": {},
   "source": [
    "**Questions**\n",
    "1. Which year has the highest number of upload?\n",
    "2. number of movies uploaded by month in the year 2019\n",
    "3. What movies has highest movie length?\n",
    "4. Stars with most number of movies\n",
    "5. Find movies which Scott Adkin was an actor\n",
    "6. How long from on average from offical release of movie to site upload\n",
    "7. Trend between release and Update\n",
    "8. Compared top 4 genre with others genre in a pie chart\n",
    "9. What movie got movie people talking most and what is the summary\n",
    "10. Trend in upload"
   ]
  },
  {
   "cell_type": "markdown",
   "id": "bdfa801d",
   "metadata": {},
   "source": [
    "### 1. Which year has the highest number of upload?"
   ]
  },
  {
   "cell_type": "code",
   "execution_count": 27,
   "id": "0dc9e50f",
   "metadata": {
    "scrolled": true
   },
   "outputs": [
    {
     "data": {
      "text/plain": [
       "Upload_date\n",
       "2016-12-31      4\n",
       "2017-12-31    127\n",
       "2018-12-31    563\n",
       "2019-12-31    646\n",
       "2020-12-31    589\n",
       "2021-12-31    541\n",
       "2022-12-31     31\n",
       "Freq: A-DEC, Name: Upload_date, dtype: int64"
      ]
     },
     "execution_count": 27,
     "metadata": {},
     "output_type": "execute_result"
    }
   ],
   "source": [
    "#resamples by year\n",
    "year_counts=df['Upload_date'].resample('Y').count()\n",
    "year_counts"
   ]
  },
  {
   "cell_type": "code",
   "execution_count": 28,
   "id": "0a6eb293",
   "metadata": {
    "scrolled": false
   },
   "outputs": [
    {
     "data": {
      "image/png": "[encoded data removed]",
      "text/plain": [
       "<Figure size 720x360 with 1 Axes>"
      ]
     },
     "metadata": {
      "needs_background": "light"
     },
     "output_type": "display_data"
    }
   ],
   "source": [
    "#bar graph\n",
    "fig = plt.figure(figsize=(10,5))\n",
    "sns.barplot(x=year_counts.index.year, y=year_counts, color='#4fabbc' )\n",
    "plt.ylabel('Counts',fontsize=12)\n",
    "plt.xlabel('Year',fontsize=12)\n",
    "plt.title('Total Upload by Year',fontsize=16)\n",
    "plt.xticks(rotation=60);"
   ]
  },
  {
   "cell_type": "markdown",
   "id": "2c6411e1",
   "metadata": {},
   "source": [
    "### 2. Find the number of movies by month in the year 2019\n"
   ]
  },
  {
   "cell_type": "code",
   "execution_count": 29,
   "id": "ee2d40d7",
   "metadata": {},
   "outputs": [],
   "source": [
    "#resample data by month\n",
    "count_2019=df['Upload_date']['2019'].resample('M').count()\n",
    "month = ['January', 'February', 'March', 'April', 'May', 'June', 'July', 'August', 'September', 'October', 'November', 'December' ]"
   ]
  },
  {
   "cell_type": "code",
   "execution_count": 30,
   "id": "7b62ef1e",
   "metadata": {},
   "outputs": [
    {
     "data": {
      "image/png": "[encoded data removed]",
      "text/plain": [
       "<Figure size 864x360 with 1 Axes>"
      ]
     },
     "metadata": {
      "needs_background": "light"
     },
     "output_type": "display_data"
    }
   ],
   "source": [
    "# bar graph\n",
    "fig = plt.figure(figsize=(12,5))\n",
    "sns.barplot(x=month, y=count_2019.values, color='#4fabbc' )\n",
    "plt.ylabel('Counts')\n",
    "plt.title('Number of Upload by Month(2019)', fontsize=16)\n",
    "plt.xticks(rotation=60);"
   ]
  },
  {
   "cell_type": "code",
   "execution_count": 31,
   "id": "8f760e36",
   "metadata": {},
   "outputs": [
    {
     "data": {
      "text/plain": [
       "Upload_date\n",
       "2019-01-31    40\n",
       "2019-02-28    47\n",
       "2019-03-31    40\n",
       "2019-04-30    47\n",
       "2019-05-31    59\n",
       "2019-06-30    58\n",
       "2019-07-31    69\n",
       "2019-08-31    50\n",
       "2019-09-30    54\n",
       "2019-10-31    58\n",
       "2019-11-30    68\n",
       "2019-12-31    56\n",
       "Freq: M, Name: Upload_date, dtype: int64"
      ]
     },
     "execution_count": 31,
     "metadata": {},
     "output_type": "execute_result"
    }
   ],
   "source": [
    "count_2019"
   ]
  },
  {
   "cell_type": "markdown",
   "id": "1b6ce08c",
   "metadata": {},
   "source": [
    "### 3. What movies has highest movie length?"
   ]
  },
  {
   "cell_type": "code",
   "execution_count": 32,
   "id": "736ab6ef",
   "metadata": {
    "scrolled": true
   },
   "outputs": [
    {
     "data": {
      "text/html": [
       "<div>\n",
       "<style scoped>\n",
       "    .dataframe tbody tr th:only-of-type {\n",
       "        vertical-align: middle;\n",
       "    }\n",
       "\n",
       "    .dataframe tbody tr th {\n",
       "        vertical-align: top;\n",
       "    }\n",
       "\n",
       "    .dataframe thead th {\n",
       "        text-align: right;\n",
       "    }\n",
       "</style>\n",
       "<table border=\"1\" class=\"dataframe\">\n",
       "  <thead>\n",
       "    <tr style=\"text-align: right;\">\n",
       "      <th></th>\n",
       "      <th>Title</th>\n",
       "      <th>Movie_length</th>\n",
       "    </tr>\n",
       "    <tr>\n",
       "      <th>Upload_date</th>\n",
       "      <th></th>\n",
       "      <th></th>\n",
       "    </tr>\n",
       "  </thead>\n",
       "  <tbody>\n",
       "    <tr>\n",
       "      <th>2021-03-18</th>\n",
       "      <td>Zack Snyders Justice League</td>\n",
       "      <td>0 days 04:02:03</td>\n",
       "    </tr>\n",
       "  </tbody>\n",
       "</table>\n",
       "</div>"
      ],
      "text/plain": [
       "                                   Title    Movie_length\n",
       "Upload_date                                             \n",
       "2021-03-18   Zack Snyders Justice League 0 days 04:02:03"
      ]
     },
     "execution_count": 32,
     "metadata": {},
     "output_type": "execute_result"
    }
   ],
   "source": [
    "df[df['Movie_length']==str(df['Movie_length'].max())][['Title','Movie_length']]"
   ]
  },
  {
   "cell_type": "markdown",
   "id": "4ba601ca",
   "metadata": {},
   "source": [
    "### 4. Stars with most number of movies"
   ]
  },
  {
   "cell_type": "code",
   "execution_count": 33,
   "id": "7d50bce6",
   "metadata": {},
   "outputs": [],
   "source": [
    "#splits stars in each rows\n",
    "split_star=df['Stars'].apply(lambda x: x.split(','))"
   ]
  },
  {
   "cell_type": "code",
   "execution_count": 34,
   "id": "f1a3ab74",
   "metadata": {},
   "outputs": [],
   "source": [
    "# function to to append each star in in a star_list\n",
    "star_list=[]\n",
    "def stt(split_star):\n",
    "    for star in split_star:\n",
    "        star_list.append(star)"
   ]
  },
  {
   "cell_type": "code",
   "execution_count": 35,
   "id": "dc425567",
   "metadata": {},
   "outputs": [],
   "source": [
    "#Apply the function and conert the the list to pandas series\n",
    "stars=split_star.apply(lambda x: stt(x))\n",
    "stars=pd.Series(star_list)\n",
    "stars=stars.str.strip(' ')"
   ]
  },
  {
   "cell_type": "code",
   "execution_count": 36,
   "id": "49f1eba3",
   "metadata": {},
   "outputs": [
    {
     "data": {
      "text/plain": [
       "Nicolas Cage         13\n",
       "Bruce Willis         10\n",
       "Samuel L. Jackson     9\n",
       "dtype: int64"
      ]
     },
     "execution_count": 36,
     "metadata": {},
     "output_type": "execute_result"
    }
   ],
   "source": [
    "#Top 3 stars with most number of movies\n",
    "stars.value_counts().head(3)"
   ]
  },
  {
   "cell_type": "code",
   "execution_count": null,
   "id": "bb3a949f",
   "metadata": {},
   "outputs": [],
   "source": []
  },
  {
   "cell_type": "markdown",
   "id": "6e2c53ba",
   "metadata": {},
   "source": [
    "### 5. Find movies which Scott Adkins acted\n"
   ]
  },
  {
   "cell_type": "code",
   "execution_count": 37,
   "id": "62981759",
   "metadata": {
    "scrolled": false
   },
   "outputs": [
    {
     "data": {
      "text/html": [
       "<div>\n",
       "<style scoped>\n",
       "    .dataframe tbody tr th:only-of-type {\n",
       "        vertical-align: middle;\n",
       "    }\n",
       "\n",
       "    .dataframe tbody tr th {\n",
       "        vertical-align: top;\n",
       "    }\n",
       "\n",
       "    .dataframe thead th {\n",
       "        text-align: right;\n",
       "    }\n",
       "</style>\n",
       "<table border=\"1\" class=\"dataframe\">\n",
       "  <thead>\n",
       "    <tr style=\"text-align: right;\">\n",
       "      <th></th>\n",
       "      <th>Title</th>\n",
       "      <th>Stars</th>\n",
       "    </tr>\n",
       "    <tr>\n",
       "      <th>Upload_date</th>\n",
       "      <th></th>\n",
       "      <th></th>\n",
       "    </tr>\n",
       "  </thead>\n",
       "  <tbody>\n",
       "    <tr>\n",
       "      <th>2021-11-05</th>\n",
       "      <td>One Shot</td>\n",
       "      <td>Scott Adkins, Ashley Greene, Ryan Phillippe</td>\n",
       "    </tr>\n",
       "    <tr>\n",
       "      <th>2020-11-13</th>\n",
       "      <td>Dead Reckoning</td>\n",
       "      <td>K.J. Apa, Scott Adkins, James Remar</td>\n",
       "    </tr>\n",
       "    <tr>\n",
       "      <th>2020-10-02</th>\n",
       "      <td>Seized  DVDRip</td>\n",
       "      <td>Scott Adkins, Mario Van Peebles, Steven Elder</td>\n",
       "    </tr>\n",
       "    <tr>\n",
       "      <th>2020-07-28</th>\n",
       "      <td>Legacy of Lies</td>\n",
       "      <td>Scott Adkins, Honor Kneafsey, Andrea Vasiliou</td>\n",
       "    </tr>\n",
       "    <tr>\n",
       "      <th>2020-05-29</th>\n",
       "      <td>Debt Collectors</td>\n",
       "      <td>Scott Adkins, Louis Mandylor, Vladimir Kulich</td>\n",
       "    </tr>\n",
       "    <tr>\n",
       "      <th>2019-05-24</th>\n",
       "      <td>Avengement</td>\n",
       "      <td>Scott Adkins, Craig Fairbrass, Thomas Turgoose</td>\n",
       "    </tr>\n",
       "    <tr>\n",
       "      <th>2018-05-10</th>\n",
       "      <td>Incoming</td>\n",
       "      <td>Scott Adkins, Dominic Power, Aaron McCusker</td>\n",
       "    </tr>\n",
       "    <tr>\n",
       "      <th>2018-02-08</th>\n",
       "      <td>Accident Man</td>\n",
       "      <td>Scott Adkins, Ray Stevenson, Ashley Greene</td>\n",
       "    </tr>\n",
       "  </tbody>\n",
       "</table>\n",
       "</div>"
      ],
      "text/plain": [
       "                       Title                                            Stars\n",
       "Upload_date                                                                  \n",
       "2021-11-05          One Shot      Scott Adkins, Ashley Greene, Ryan Phillippe\n",
       "2020-11-13    Dead Reckoning              K.J. Apa, Scott Adkins, James Remar\n",
       "2020-10-02    Seized  DVDRip   Scott Adkins, Mario Van Peebles, Steven Elder \n",
       "2020-07-28    Legacy of Lies    Scott Adkins, Honor Kneafsey, Andrea Vasiliou\n",
       "2020-05-29   Debt Collectors   Scott Adkins, Louis Mandylor, Vladimir Kulich \n",
       "2019-05-24        Avengement   Scott Adkins, Craig Fairbrass, Thomas Turgoose\n",
       "2018-05-10          Incoming      Scott Adkins, Dominic Power, Aaron McCusker\n",
       "2018-02-08      Accident Man       Scott Adkins, Ray Stevenson, Ashley Greene"
      ]
     },
     "execution_count": 37,
     "metadata": {},
     "output_type": "execute_result"
    }
   ],
   "source": [
    "df[df['Stars'].str.contains('Scott Adkins')][['Title','Stars']]"
   ]
  },
  {
   "cell_type": "markdown",
   "id": "c68fb1f3",
   "metadata": {},
   "source": [
    "### 6. How long from on average from offical release of movie to site upload\n"
   ]
  },
  {
   "cell_type": "code",
   "execution_count": 38,
   "id": "9393927c",
   "metadata": {},
   "outputs": [],
   "source": [
    "release_upload=df[['Upload_date','Release_date']]"
   ]
  },
  {
   "cell_type": "code",
   "execution_count": 39,
   "id": "aa9e79b6",
   "metadata": {},
   "outputs": [],
   "source": [
    "release_upload['diff']=abs(release_upload['Upload_date'].dt.day - release_upload['Release_date'].dt.day)"
   ]
  },
  {
   "cell_type": "code",
   "execution_count": 40,
   "id": "9c3c0f5c",
   "metadata": {},
   "outputs": [
    {
     "name": "stdout",
     "output_type": "stream",
     "text": [
      "it take an average of 7 days from release date to been uploaded on net_naija \n"
     ]
    }
   ],
   "source": [
    "avg=round(release_upload['diff'].mean())\n",
    "print(f'it take an average of {avg} days from release date to been uploaded on net_naija ')"
   ]
  },
  {
   "cell_type": "markdown",
   "id": "ca088e92",
   "metadata": {},
   "source": [
    "### 7. Trend between release and Update"
   ]
  },
  {
   "cell_type": "code",
   "execution_count": 41,
   "id": "b54f9409",
   "metadata": {},
   "outputs": [],
   "source": [
    "trend=release_upload.resample('y').mean()\n",
    "trend=trend.dropna()"
   ]
  },
  {
   "cell_type": "code",
   "execution_count": 42,
   "id": "03184ae1",
   "metadata": {},
   "outputs": [
    {
     "data": {
      "image/png": "[encoded data removed]",
      "text/plain": [
       "<Figure size 864x360 with 1 Axes>"
      ]
     },
     "metadata": {
      "needs_background": "light"
     },
     "output_type": "display_data"
    }
   ],
   "source": [
    "fig = plt.figure(figsize=(12,5))\n",
    "sns.lineplot(x=trend.index, y=trend['diff'],color='navy')\n",
    "plt.title('Yearly_avg between Release and Uplaod', fontsize=16,)\n",
    "plt.ylabel('Days');"
   ]
  },
  {
   "cell_type": "markdown",
   "id": "57408c3e",
   "metadata": {},
   "source": [
    "### 8. Compared top 4 genre with others genre in a pie chart\n"
   ]
  },
  {
   "cell_type": "code",
   "execution_count": 43,
   "id": "050303d8",
   "metadata": {
    "scrolled": true
   },
   "outputs": [],
   "source": [
    "#split all genre and append to a list\n",
    "split_genre=df['Genres'].apply(lambda x: x.split(','))\n",
    "genre_list=[]\n",
    "def stt(split_genre):\n",
    "    for genre in split_genre:\n",
    "        genre_list.append(genre)"
   ]
  },
  {
   "cell_type": "code",
   "execution_count": 44,
   "id": "aa9622df",
   "metadata": {},
   "outputs": [],
   "source": [
    "#convert list to a seris\n",
    "genres=split_genre.apply(lambda y: stt(y))\n",
    "genres=pd.Series(genre_list)"
   ]
  },
  {
   "cell_type": "code",
   "execution_count": 45,
   "id": "0376e2ae",
   "metadata": {},
   "outputs": [],
   "source": [
    "# clean the genre series\n",
    "genres=genres.str.strip(r'\\xa0')\n",
    "genres=genres.str.strip(' ')\n",
    "genres=genres.str.replace('Dra.*','Drama', regex=True)\n",
    "genres=genres.str.replace('Sci.*','Sci-Fi', regex=True)\n",
    "genres=genres.str.replace('Adven.*','Adventure', regex=True)\n",
    "genres=genres.str.replace('Hor.*','Horror', regex=True)                          \n",
    "genres=genres.str.replace('Co.*','Comedy', regex=True)\n",
    "genres=genres.str.replace('Ac.*','Action', regex=True)\n",
    "genres=genres.str.replace('cri.*','Crime', regex=True)\n",
    "genres=genres.value_counts()"
   ]
  },
  {
   "cell_type": "code",
   "execution_count": 46,
   "id": "942d54c1",
   "metadata": {},
   "outputs": [],
   "source": [
    "ADTC_col=['Action','Drama','Thriller','Comedy']"
   ]
  },
  {
   "cell_type": "code",
   "execution_count": 47,
   "id": "49719c11",
   "metadata": {
    "scrolled": false
   },
   "outputs": [],
   "source": [
    "ADTC=list(genres[ADTC_col].values)"
   ]
  },
  {
   "cell_type": "code",
   "execution_count": 48,
   "id": "b80359ac",
   "metadata": {},
   "outputs": [],
   "source": [
    "Others=genres.drop(ADTC_col).sum()\n",
    "ADTC.insert(4, Others)"
   ]
  },
  {
   "cell_type": "code",
   "execution_count": 49,
   "id": "26c9dce9",
   "metadata": {},
   "outputs": [
    {
     "data": {
      "text/plain": [
       "[694, 1279, 712, 739, 2891]"
      ]
     },
     "execution_count": 49,
     "metadata": {},
     "output_type": "execute_result"
    }
   ],
   "source": [
    "ADTC"
   ]
  },
  {
   "cell_type": "code",
   "execution_count": 50,
   "id": "46d3f398",
   "metadata": {},
   "outputs": [
    {
     "data": {
      "image/png": "[encoded data removed]",
      "text/plain": [
       "<Figure size 360x432 with 1 Axes>"
      ]
     },
     "metadata": {},
     "output_type": "display_data"
    }
   ],
   "source": [
    "# pie chart\n",
    "plt.figure(figsize = (5,6))\n",
    "plt.title(f'Percentage Representation of Action, Drama, Thriller, Comedy and Other genres in pie_graph')\n",
    "plt.pie(ADTC, labels = ['Action', 'Drama' ,'Thriller', 'Comedy', 'Others'], autopct = '%1.2f%%');"
   ]
  },
  {
   "cell_type": "markdown",
   "id": "6ac0eb1c",
   "metadata": {},
   "source": [
    "### 9. What movie got movie people talking most"
   ]
  },
  {
   "cell_type": "code",
   "execution_count": 51,
   "id": "ad049baa",
   "metadata": {},
   "outputs": [
    {
     "data": {
      "text/plain": [
       "Upload_date\n",
       "2021-07-29    Fast and Furious 9: The Fast Saga\n",
       "Name: Title, dtype: object"
      ]
     },
     "execution_count": 51,
     "metadata": {},
     "output_type": "execute_result"
    }
   ],
   "source": [
    "df[df['Num_of_comments']==df['Num_of_comments'].max()]['Title']"
   ]
  },
  {
   "cell_type": "markdown",
   "id": "962202dc",
   "metadata": {},
   "source": [
    "### 10. Trend in upload"
   ]
  },
  {
   "cell_type": "code",
   "execution_count": 52,
   "id": "83f392ad",
   "metadata": {},
   "outputs": [],
   "source": [
    "Trend=df.resample('M').count()['Title']"
   ]
  },
  {
   "cell_type": "code",
   "execution_count": 53,
   "id": "3638c74f",
   "metadata": {
    "scrolled": false
   },
   "outputs": [
    {
     "data": {
      "image/png": "[encoded data removed]",
      "text/plain": [
       "<Figure size 1080x288 with 1 Axes>"
      ]
     },
     "metadata": {
      "needs_background": "light"
     },
     "output_type": "display_data"
    }
   ],
   "source": [
    "plt.figure(figsize=(15,4))\n",
    "plt.title('Uploads Trend', fontsize=16,)\n",
    "plt.ylabel('Counts')\n",
    "sns.lineplot(x=Trend.index, y=Trend, color='navy');"
   ]
  },
  {
   "cell_type": "code",
   "execution_count": 54,
   "id": "e177562f",
   "metadata": {},
   "outputs": [
    {
     "name": "stdout",
     "output_type": "stream",
     "text": [
      "[NbConvertApp] Converting notebook Data_Wrangling_and_EDA.ipynb to html\n",
      "[NbConvertApp] Writing 794413 bytes to Data_Wrangling_and_EDA.html\n"
     ]
    }
   ],
   "source": [
    "!jupyter nbconvert --to html Data_Wrangling_and_EDA.ipynb"
   ]
  },
  {
   "cell_type": "code",
   "execution_count": 55,
   "id": "10fb3da0",
   "metadata": {},
   "outputs": [
    {
     "data": {
      "text/plain": [
       "(2501, 11)"
      ]
     },
     "execution_count": 55,
     "metadata": {},
     "output_type": "execute_result"
    }
   ],
   "source": [
    "df.shape"
   ]
  },
  {
   "cell_type": "code",
   "execution_count": 56,
   "id": "848e4bc2",
   "metadata": {},
   "outputs": [
    {
     "data": {
      "text/plain": [
       "Series([], Name: Upload_date, dtype: datetime64[ns])"
      ]
     },
     "execution_count": 56,
     "metadata": {},
     "output_type": "execute_result"
    }
   ],
   "source": [
    "df['Upload_date'][df['Upload_date']=='2013']"
   ]
  },
  {
   "cell_type": "code",
   "execution_count": 57,
   "id": "8eccd658",
   "metadata": {},
   "outputs": [
    {
     "data": {
      "text/plain": [
       "2019    646\n",
       "2020    589\n",
       "2018    563\n",
       "2021    541\n",
       "2017    127\n",
       "2022     31\n",
       "2016      4\n",
       "Name: Upload_date, dtype: int64"
      ]
     },
     "execution_count": 57,
     "metadata": {},
     "output_type": "execute_result"
    }
   ],
   "source": [
    "df['Upload_date'].dt.year.value_counts()"
   ]
  },
  {
   "cell_type": "code",
   "execution_count": null,
   "id": "b62fd569",
   "metadata": {},
   "outputs": [],
   "source": []
  }
 ],
 "metadata": {
  "kernelspec": {
   "display_name": "Python 3 (ipykernel)",
   "language": "python",
   "name": "python3"
  },
  "language_info": {
   "codemirror_mode": {
    "name": "ipython",
    "version": 3
   },
   "file_extension": ".py",
   "mimetype": "text/x-python",
   "name": "python",
   "nbconvert_exporter": "python",
   "pygments_lexer": "ipython3",
   "version": "3.10.0"
  }
 },
 "nbformat": 4,
 "nbformat_minor": 5
}
